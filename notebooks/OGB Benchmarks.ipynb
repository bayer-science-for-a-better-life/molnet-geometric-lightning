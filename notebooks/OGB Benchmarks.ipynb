{
 "cells": [
  {
   "cell_type": "markdown",
   "id": "2c09ab76",
   "metadata": {},
   "source": [
    "# OGB Benchmarks"
   ]
  },
  {
   "cell_type": "markdown",
   "id": "6962c5cb",
   "metadata": {},
   "source": [
    "This notebook shows you how to re-create the benchmarks from the paper [Open Graph Benchmark: Datasets for Machine Learning on Graphs](https://arxiv.org/pdf/2005.00687.pdf).\n",
    "\n",
    "We'll train on a small dataset, the ESOL solubility dataset. You can see the reported results on Table 28 near the end of the paper in the Appendix."
   ]
  },
  {
   "cell_type": "code",
   "execution_count": 1,
   "id": "a9fad84b",
   "metadata": {},
   "outputs": [
    {
     "name": "stderr",
     "output_type": "stream",
     "text": [
      "/home/gltyk/miniconda3/envs/mgl/lib/python3.8/site-packages/pytorch_lightning/metrics/__init__.py:43: LightningDeprecationWarning: `pytorch_lightning.metrics.*` module has been renamed to `torchmetrics.*` and split off to its own package (https://github.com/PyTorchLightning/metrics) since v1.3 and will be removed in v1.5\n",
      "  rank_zero_deprecation(\n",
      "WARNING:root:The OGB package is out of date. Your version is 1.3.1, while the latest version is 1.3.2.\n"
     ]
    }
   ],
   "source": [
    "from molnet_geometric_lightning.train import parse_args, train"
   ]
  },
  {
   "cell_type": "code",
   "execution_count": 2,
   "id": "111e05a9",
   "metadata": {},
   "outputs": [],
   "source": [
    "name = 'esol'  # we'll use the esol dataset\n",
    "\n",
    "args = [\n",
    "    f'--dataset_name={name}',  # name of one of the builtin datasets, e.g. esol, pcba, hiv\n",
    "    '--dataset_root=data/',  # store the dataset here\n",
    "    '--n_runs=10',  # the paper uses the mean and std over ten runs\n",
    "    '--max_epochs=100',  # the paper uses 100 epochs per run\n",
    "    '--residual',  # the reference implementation uses residual connections\n",
    "    '--num_sanity_val_steps=0',  # some datasets can't compute eval metrics on just a couple samples\n"
    "]"
   ]
  },
  {
   "cell_type": "code",
   "execution_count": 3,
   "id": "f3362e2b",
   "metadata": {},
   "outputs": [],
   "source": [
    "args.append('--gpus=1')"
   ]
  },
  {
   "cell_type": "code",
   "execution_count": 4,
   "id": "fb5e4800",
   "metadata": {},
   "outputs": [],
   "source": [
    "gnn_types = ['gin', 'gcn']\n",
    "virtual_node = [True, False]"
   ]
  },
  {
   "cell_type": "markdown",
   "id": "23aaeeb0",
   "metadata": {},
   "source": [
    "## Run the experiment"
   ]
  },
  {
   "cell_type": "markdown",
   "id": "5f3ae14a",
   "metadata": {},
   "source": [
    "We're comparing four different architectures with the full featurization: GCN vs GIN with or without a virtual node."
   ]
  },
  {
   "cell_type": "code",
   "execution_count": 5,
   "id": "7b5c947f",
   "metadata": {},
   "outputs": [
    {
     "name": "stderr",
     "output_type": "stream",
     "text": [
      "GPU available: True, used: True\n",
      "TPU available: False, using: 0 TPU cores\n",
      "LOCAL_RANK: 0 - CUDA_VISIBLE_DEVICES: [6]\n",
      "\n",
      "  | Name                  | Type        | Params\n",
      "------------------------------------------------------\n",
      "0 | atom_encoder          | AtomEncoder | 51.6 K\n",
      "1 | virtualnode_embedding | Embedding   | 300   \n",
      "2 | mlp_virtualnode_list  | ModuleList  | 1.5 M \n",
      "3 | convs                 | ModuleList  | 1.8 M \n",
      "4 | batch_norms           | ModuleList  | 3.0 K \n",
      "5 | graph_pred_linear     | Linear      | 301   \n",
      "------------------------------------------------------\n",
      "3.3 M     Trainable params\n",
      "0         Non-trainable params\n",
      "3.3 M     Total params\n",
      "13.344    Total estimated model params size (MB)\n"
     ]
    },
   ],
   "source": [
    "for gnn in gnn_types:\n",
    "    for virt in virtual_node:\n",
    "        _args = args.copy()\n",
    "        _args.append(f'--default_root_dir=models/{name}/{gnn}/{virt}')  # where the models will be stored\n",
    "        _args.append(f'--gnn_type={gnn}')\n",
    "        if virt:\n",
    "            _args.append('--virtual_node')\n",
    "        train(parse_args(_args))\n",
    "        "
   ]
  },
  {
   "cell_type": "markdown",
   "id": "2fcfd208",
   "metadata": {},
   "source": [
    "## Compiling the results"
   ]
  },
  {
   "cell_type": "markdown",
   "id": "853e1192",
   "metadata": {},
   "source": [
    "We can extract the performance on the test set and the best validation epoch from the Tensorboard logs"
   ]
  },
  {
   "cell_type": "code",
   "execution_count": 6,
   "id": "aea2c71c",
   "metadata": {},
   "outputs": [],
   "source": [
    "from pathlib import Path\n",
    "from tensorboard.backend.event_processing import event_accumulator\n",
    "import pandas as pd"
   ]
  },
  {
   "cell_type": "code",
   "execution_count": 7,
   "id": "8785e3c5",
   "metadata": {},
   "outputs": [],
   "source": [
    "test_runs = []\n",
    "valid_runs = []\n",
    "\n",
    "for gnn in gnn_types:\n",
    "    for virt in virtual_node:\n",
    "        p = Path(f'models/{name}/{gnn}/{virt}')\n",
    "        event_files = list(p.glob('*/*/*tfevents*'))\n",
    "        for ef in event_files:\n",
    "            ea = event_accumulator.EventAccumulator(str(ef))\n",
    "            ea.Reload()\n",
    "            tags = ea.Tags()['scalars']\n",
    "            if any(['test' in x for x in tags]):\n",
    "                tag = [x for x in tags if 'test' in x][0]\n",
    "                row = {'gnn_type': gnn, 'virtual': virt, tag: ea.Scalars(tag)[0].value}\n",
    "                test_runs.append(row)\n",
    "            else:\n",
    "                tag = [x for x in tags if x not in ['hp_metric', 'epoch'] and 'train' not in x][0]\n",
    "                valid = [x.value for x in ea.Scalars(tag)]\n",
    "                best = max(valid) if tag != 'rmse' else min(valid)\n",
    "                row = {'gnn_type': gnn, 'virtual': virt, tag: best}\n",
    "                valid_runs.append(row)"
   ]
  },
  {
   "cell_type": "markdown",
   "id": "17768661",
   "metadata": {},
   "source": [
    "### Validation mean and std"
   ]
  },
  {
   "cell_type": "code",
   "execution_count": 8,
   "id": "26506245",
   "metadata": {},
   "outputs": [
    {
     "data": {
      "text/html": [
       "<div>\n",
       "<style scoped>\n",
       "    .dataframe tbody tr th:only-of-type {\n",
       "        vertical-align: middle;\n",
       "    }\n",
       "\n",
       "    .dataframe tbody tr th {\n",
       "        vertical-align: top;\n",
       "    }\n",
       "\n",
       "    .dataframe thead th {\n",
       "        text-align: right;\n",
       "    }\n",
       "</style>\n",
       "<table border=\"1\" class=\"dataframe\">\n",
       "  <thead>\n",
       "    <tr style=\"text-align: right;\">\n",
       "      <th></th>\n",
       "      <th></th>\n",
       "      <th>rmse</th>\n",
       "    </tr>\n",
       "    <tr>\n",
       "      <th>gnn_type</th>\n",
       "      <th>virtual</th>\n",
       "      <th></th>\n",
       "    </tr>\n",
       "  </thead>\n",
       "  <tbody>\n",
       "    <tr>\n",
       "      <th rowspan=\"2\" valign=\"top\">gcn</th>\n",
       "      <th>False</th>\n",
       "      <td>1.006</td>\n",
       "    </tr>\n",
       "    <tr>\n",
       "      <th>True</th>\n",
       "      <td>0.984</td>\n",
       "    </tr>\n",
       "    <tr>\n",
       "      <th rowspan=\"2\" valign=\"top\">gin</th>\n",
       "      <th>False</th>\n",
       "      <td>0.983</td>\n",
       "    </tr>\n",
       "    <tr>\n",
       "      <th>True</th>\n",
       "      <td>0.849</td>\n",
       "    </tr>\n",
       "  </tbody>\n",
       "</table>\n",
       "</div>"
      ],
      "text/plain": [
       "                   rmse\n",
       "gnn_type virtual       \n",
       "gcn      False    1.006\n",
       "         True     0.984\n",
       "gin      False    0.983\n",
       "         True     0.849"
      ]
     },
     "execution_count": 8,
     "metadata": {},
     "output_type": "execute_result"
    }
   ],
   "source": [
    "pd.DataFrame(valid_runs).groupby(['gnn_type', 'virtual']).mean().round(3)"
   ]
  },
  {
   "cell_type": "code",
   "execution_count": 9,
   "id": "8a9fe9b5",
   "metadata": {},
   "outputs": [
    {
     "data": {
      "text/html": [
       "<div>\n",
       "<style scoped>\n",
       "    .dataframe tbody tr th:only-of-type {\n",
       "        vertical-align: middle;\n",
       "    }\n",
       "\n",
       "    .dataframe tbody tr th {\n",
       "        vertical-align: top;\n",
       "    }\n",
       "\n",
       "    .dataframe thead th {\n",
       "        text-align: right;\n",
       "    }\n",
       "</style>\n",
       "<table border=\"1\" class=\"dataframe\">\n",
       "  <thead>\n",
       "    <tr style=\"text-align: right;\">\n",
       "      <th></th>\n",
       "      <th></th>\n",
       "      <th>rmse</th>\n",
       "    </tr>\n",
       "    <tr>\n",
       "      <th>gnn_type</th>\n",
       "      <th>virtual</th>\n",
       "      <th></th>\n",
       "    </tr>\n",
       "  </thead>\n",
       "  <tbody>\n",
       "    <tr>\n",
       "      <th rowspan=\"2\" valign=\"top\">gcn</th>\n",
       "      <th>False</th>\n",
       "      <td>0.028</td>\n",
       "    </tr>\n",
       "    <tr>\n",
       "      <th>True</th>\n",
       "      <td>0.024</td>\n",
       "    </tr>\n",
       "    <tr>\n",
       "      <th rowspan=\"2\" valign=\"top\">gin</th>\n",
       "      <th>False</th>\n",
       "      <td>0.028</td>\n",
       "    </tr>\n",
       "    <tr>\n",
       "      <th>True</th>\n",
       "      <td>0.027</td>\n",
       "    </tr>\n",
       "  </tbody>\n",
       "</table>\n",
       "</div>"
      ],
      "text/plain": [
       "                   rmse\n",
       "gnn_type virtual       \n",
       "gcn      False    0.028\n",
       "         True     0.024\n",
       "gin      False    0.028\n",
       "         True     0.027"
      ]
     },
     "execution_count": 9,
     "metadata": {},
     "output_type": "execute_result"
    }
   ],
   "source": [
    "pd.DataFrame(valid_runs).groupby(['gnn_type', 'virtual']).std().round(3)"
   ]
  },
  {
   "cell_type": "markdown",
   "id": "bd76eb27",
   "metadata": {},
   "source": [
    "### Test mean and std"
   ]
  },
  {
   "cell_type": "code",
   "execution_count": 10,
   "id": "78ca89bf",
   "metadata": {},
   "outputs": [
    {
     "data": {
      "text/html": [
       "<div>\n",
       "<style scoped>\n",
       "    .dataframe tbody tr th:only-of-type {\n",
       "        vertical-align: middle;\n",
       "    }\n",
       "\n",
       "    .dataframe tbody tr th {\n",
       "        vertical-align: top;\n",
       "    }\n",
       "\n",
       "    .dataframe thead th {\n",
       "        text-align: right;\n",
       "    }\n",
       "</style>\n",
       "<table border=\"1\" class=\"dataframe\">\n",
       "  <thead>\n",
       "    <tr style=\"text-align: right;\">\n",
       "      <th></th>\n",
       "      <th></th>\n",
       "      <th>rmse/test</th>\n",
       "    </tr>\n",
       "    <tr>\n",
       "      <th>gnn_type</th>\n",
       "      <th>virtual</th>\n",
       "      <th></th>\n",
       "    </tr>\n",
       "  </thead>\n",
       "  <tbody>\n",
       "    <tr>\n",
       "      <th rowspan=\"2\" valign=\"top\">gcn</th>\n",
       "      <th>False</th>\n",
       "      <td>1.154</td>\n",
       "    </tr>\n",
       "    <tr>\n",
       "      <th>True</th>\n",
       "      <td>0.903</td>\n",
       "    </tr>\n",
       "    <tr>\n",
       "      <th rowspan=\"2\" valign=\"top\">gin</th>\n",
       "      <th>False</th>\n",
       "      <td>1.122</td>\n",
       "    </tr>\n",
       "    <tr>\n",
       "      <th>True</th>\n",
       "      <td>0.898</td>\n",
       "    </tr>\n",
       "  </tbody>\n",
       "</table>\n",
       "</div>"
      ],
      "text/plain": [
       "                  rmse/test\n",
       "gnn_type virtual           \n",
       "gcn      False        1.154\n",
       "         True         0.903\n",
       "gin      False        1.122\n",
       "         True         0.898"
      ]
     },
     "execution_count": 10,
     "metadata": {},
     "output_type": "execute_result"
    }
   ],
   "source": [
    "pd.DataFrame(test_runs).groupby(['gnn_type', 'virtual']).mean().round(3)"
   ]
  },
  {
   "cell_type": "code",
   "execution_count": 11,
   "id": "508ba7ba",
   "metadata": {},
   "outputs": [
    {
     "data": {
      "text/html": [
       "<div>\n",
       "<style scoped>\n",
       "    .dataframe tbody tr th:only-of-type {\n",
       "        vertical-align: middle;\n",
       "    }\n",
       "\n",
       "    .dataframe tbody tr th {\n",
       "        vertical-align: top;\n",
       "    }\n",
       "\n",
       "    .dataframe thead th {\n",
       "        text-align: right;\n",
       "    }\n",
       "</style>\n",
       "<table border=\"1\" class=\"dataframe\">\n",
       "  <thead>\n",
       "    <tr style=\"text-align: right;\">\n",
       "      <th></th>\n",
       "      <th></th>\n",
       "      <th>rmse/test</th>\n",
       "    </tr>\n",
       "    <tr>\n",
       "      <th>gnn_type</th>\n",
       "      <th>virtual</th>\n",
       "      <th></th>\n",
       "    </tr>\n",
       "  </thead>\n",
       "  <tbody>\n",
       "    <tr>\n",
       "      <th rowspan=\"2\" valign=\"top\">gcn</th>\n",
       "      <th>False</th>\n",
       "      <td>0.031</td>\n",
       "    </tr>\n",
       "    <tr>\n",
       "      <th>True</th>\n",
       "      <td>0.040</td>\n",
       "    </tr>\n",
       "    <tr>\n",
       "      <th rowspan=\"2\" valign=\"top\">gin</th>\n",
       "      <th>False</th>\n",
       "      <td>0.036</td>\n",
       "    </tr>\n",
       "    <tr>\n",
       "      <th>True</th>\n",
       "      <td>0.039</td>\n",
       "    </tr>\n",
       "  </tbody>\n",
       "</table>\n",
       "</div>"
      ],
      "text/plain": [
       "                  rmse/test\n",
       "gnn_type virtual           \n",
       "gcn      False        0.031\n",
       "         True         0.040\n",
       "gin      False        0.036\n",
       "         True         0.039"
      ]
     },
     "execution_count": 11,
     "metadata": {},
     "output_type": "execute_result"
    }
   ],
   "source": [
    "pd.DataFrame(test_runs).groupby(['gnn_type', 'virtual']).std().round(3)"
   ]
  }
 ],
 "metadata": {
  "kernelspec": {
   "display_name": "Python 3 (ipykernel)",
   "language": "python",
   "name": "python3"
  },
  "language_info": {
   "codemirror_mode": {
    "name": "ipython",
    "version": 3
   },
   "file_extension": ".py",
   "mimetype": "text/x-python",
   "name": "python",
   "nbconvert_exporter": "python",
   "pygments_lexer": "ipython3",
   "version": "3.8.12"
  }
 },
 "nbformat": 4,
 "nbformat_minor": 5
}
